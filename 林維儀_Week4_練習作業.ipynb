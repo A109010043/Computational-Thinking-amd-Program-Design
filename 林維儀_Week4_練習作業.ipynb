{
  "nbformat": 4,
  "nbformat_minor": 0,
  "metadata": {
    "colab": {
      "name": "林維儀-Week4-練習作業.ipynb",
      "provenance": [],
      "authorship_tag": "ABX9TyM7l2c7yDCaR9EIeCRISDvm",
      "include_colab_link": true
    },
    "kernelspec": {
      "name": "python3",
      "display_name": "Python 3"
    }
  },
  "cells": [
    {
      "cell_type": "markdown",
      "metadata": {
        "id": "view-in-github",
        "colab_type": "text"
      },
      "source": [
        "<a href=\"https://colab.research.google.com/github/A109010043/Computational-Thinking-amd-Program-Design/blob/main/%E6%9E%97%E7%B6%AD%E5%84%80_Week4_%E7%B7%B4%E7%BF%92%E4%BD%9C%E6%A5%AD.ipynb\" target=\"_parent\"><img src=\"https://colab.research.google.com/assets/colab-badge.svg\" alt=\"Open In Colab\"/></a>"
      ]
    },
    {
      "cell_type": "markdown",
      "metadata": {
        "id": "__2K3-YEaKz2"
      },
      "source": [
        "#隨堂練習"
      ]
    },
    {
      "cell_type": "markdown",
      "metadata": {
        "id": "rqhG7IMKW94e"
      },
      "source": [
        "#課後練習"
      ]
    },
    {
      "cell_type": "markdown",
      "metadata": {
        "id": "Pjf3aR-PYKx0"
      },
      "source": [
        "**從一則新聞報導，提出你對新聞系學生為什麼要學運算思維與程式設計的見解。"
      ]
    },
    {
      "cell_type": "markdown",
      "metadata": {
        "id": "u9QNWs5FZuL5"
      },
      "source": [
        ""
      ]
    }
  ]
}