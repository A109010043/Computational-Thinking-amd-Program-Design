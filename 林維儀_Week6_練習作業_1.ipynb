{
  "nbformat": 4,
  "nbformat_minor": 0,
  "metadata": {
    "colab": {
      "name": "林維儀-Week6-練習作業-1.ipynb",
      "provenance": [],
      "authorship_tag": "ABX9TyPzMB+v/K87VOODDGYJjFy4",
      "include_colab_link": true
    },
    "kernelspec": {
      "name": "python3",
      "display_name": "Python 3"
    },
    "language_info": {
      "name": "python"
    }
  },
  "cells": [
    {
      "cell_type": "markdown",
      "metadata": {
        "id": "view-in-github",
        "colab_type": "text"
      },
      "source": [
        "<a href=\"https://colab.research.google.com/github/A109010043/Computational-Thinking-amd-Program-Design/blob/main/%E6%9E%97%E7%B6%AD%E5%84%80_Week6_%E7%B7%B4%E7%BF%92%E4%BD%9C%E6%A5%AD_1.ipynb\" target=\"_parent\"><img src=\"https://colab.research.google.com/assets/colab-badge.svg\" alt=\"Open In Colab\"/></a>"
      ]
    },
    {
      "cell_type": "code",
      "metadata": {
        "id": "zY8DjPtwn4fM"
      },
      "source": [
        "a=1\n",
        "print(\"a=\",a)\n",
        "print(1,2,3,4,5,sep=\",\",end=\"school\")"
      ],
      "execution_count": null,
      "outputs": []
    },
    {
      "cell_type": "code",
      "metadata": {
        "id": "jCzpLBv_qsLB"
      },
      "source": [
        "a=int(input(\"a=3\"))\n",
        "b=int(intput(\"b=4\"))\n",
        "print(\"a+b=\",a + b)\n",
        "print(\"a- b=\",a - b)\n",
        "print(\"a*b=\",a * b)\n",
        "print(\"a/b=\",a / b)\n",
        "print(\"a//b=\",a // b)\n",
        "print(\"a%b=\",a % b)\n",
        "print(\"a**b=\",a ** b)"
      ],
      "execution_count": null,
      "outputs": []
    },
    {
      "cell_type": "markdown",
      "metadata": {
        "id": "MXHbNJu4oaCn"
      },
      "source": [
        "加分作業"
      ]
    },
    {
      "cell_type": "code",
      "metadata": {
        "id": "GREg9TiFngwa"
      },
      "source": [
        "name=\"Phoebe\"\n",
        "adjective=\"serious\"\n",
        "favorite_snake=\"chocolate\"\n",
        "number=\"42\"\n",
        "typeoftree=\"hoooooray\"\n",
        "\n",
        "silly_story=f\"\"\"\n",
        "hi,my name is {name}I really like {adjective}{favorite_snake}!\n",
        "I like it so much,I try to eat it at least {number}times every day.\n",
        "It takes even better when you eat it under a {typeoftree}!\n",
        "\"\"\"\n",
        "\n",
        "print(silly_story)\n"
      ],
      "execution_count": null,
      "outputs": []
    }
  ]
}