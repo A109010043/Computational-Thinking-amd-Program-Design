{
  "nbformat": 4,
  "nbformat_minor": 0,
  "metadata": {
    "colab": {
      "name": "林維儀-Ｗeek5-練習作業.ipynb",
      "provenance": [],
      "authorship_tag": "ABX9TyPEtZYfN5afLpjpMc+/0KGE",
      "include_colab_link": true
    },
    "kernelspec": {
      "name": "python3",
      "display_name": "Python 3"
    },
    "language_info": {
      "name": "python"
    }
  },
  "cells": [
    {
      "cell_type": "markdown",
      "metadata": {
        "id": "view-in-github",
        "colab_type": "text"
      },
      "source": [
        "<a href=\"https://colab.research.google.com/github/A109010043/Computational-Thinking-amd-Program-Design/blob/main/%E6%9E%97%E7%B6%AD%E5%84%80_%EF%BC%B7eek5_%E7%B7%B4%E7%BF%92%E4%BD%9C%E6%A5%AD.ipynb\" target=\"_parent\"><img src=\"https://colab.research.google.com/assets/colab-badge.svg\" alt=\"Open In Colab\"/></a>"
      ]
    },
    {
      "cell_type": "code",
      "metadata": {
        "id": "74LZ-JlXZTjJ"
      },
      "source": [
        ""
      ],
      "execution_count": null,
      "outputs": []
    },
    {
      "cell_type": "markdown",
      "metadata": {
        "id": "_tiF8QXCaA3U"
      },
      "source": [
        "序列主題（一）：變數賦值與輸入輸出"
      ]
    },
    {
      "cell_type": "markdown",
      "metadata": {
        "id": "_d4hr7AuahyS"
      },
      "source": [
        "1.自由練習"
      ]
    }
  ]
}